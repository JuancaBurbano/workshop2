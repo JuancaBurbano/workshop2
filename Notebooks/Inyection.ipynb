{
 "cells": [
  {
   "cell_type": "code",
   "execution_count": 1,
   "metadata": {},
   "outputs": [],
   "source": [
    "import json\n",
    "import pandas as pd\n",
    "import psycopg2\n"
   ]
  },
  {
   "cell_type": "code",
   "execution_count": null,
   "metadata": {},
   "outputs": [],
   "source": [
    "with open('./airflow_first_dag/plugins/Credentials.json', 'r') as json_file:\n",
    "    data = json.load(json_file)\n",
    "    user = data[\"user\"]\n",
    "    password = data[\"password\"]\n",
    "    port= data[\"port\"]\n",
    "    server = data[\"host\"]\n",
    "    db = data[\"database\"]\n",
    "\n",
    "connection = psycopg2.connect(\n",
    "    host = server,\n",
    "    user = user,\n",
    "    password = password,\n",
    "    database= db,\n",
    "    port = port\n",
    ")\n",
    "\n",
    "print(connection)\n",
    "\n",
    "print(\"Conexion exitosa\")\n",
    "\n",
    "connection.autocommit = True\n"
   ]
  },
  {
   "cell_type": "code",
   "execution_count": null,
   "metadata": {},
   "outputs": [],
   "source": [
    "def create_table():\n",
    "    cursor = connection.cursor()\n",
    "    query = \"CREATE TABLE grammys (id SERIAL PRIMARY KEY,year INTEGER,title VARCHAR(300),published_at TIMESTAMP,updated_at TIMESTAMP,category VARCHAR(300),nominee VARCHAR(300),artist VARCHAR(300),workers VARCHAR(800),img VARCHAR(700),winner BOOLEAN);\"\n",
    "    cursor.execute(query)\n",
    "    cursor.close\n"
   ]
  },
  {
   "cell_type": "code",
   "execution_count": null,
   "metadata": {},
   "outputs": [],
   "source": [
    "def create_table():\n",
    "    cursor = connection.cursor()\n",
    "    query = \"CREATE TABLE grammys (id SERIAL PRIMARY KEY,year INTEGER,title VARCHAR(300),published_at TIMESTAMP,updated_at TIMESTAMP,category VARCHAR(300),nominee VARCHAR(300),artist VARCHAR(300),workers VARCHAR(800),img VARCHAR(700),winner BOOLEAN);\"\n",
    "    cursor.execute(query)\n",
    "    cursor.close\n",
    "\n",
    "create_table()\n"
   ]
  },
  {
   "cell_type": "code",
   "execution_count": null,
   "metadata": {},
   "outputs": [],
   "source": [
    "def insert_data(df, table_name,):\n",
    "    cursor = connection.cursor()\n",
    "    columns = \", \".join(df.columns)\n",
    "    values = \", \".join([\"%s\" for _ in range(len(df.columns))])\n",
    "    insert_query = f\"INSERT INTO {table_name} ({columns}) VALUES ({values})\"\n",
    "    data = [tuple(row) for row in df.to_numpy()]\n",
    "    cursor.executemany(insert_query, data)\n",
    "    cursor.close\n",
    "df = pd.read_csv(\"C:/Users/playc/Desktop/Workshop2/airflow_first_dag/plugins/the_grammy_awards.csv\")\n",
    "table_name= \"grammys\"\n",
    "insert_data(df,table_name)"
   ]
  }
 ],
 "metadata": {
  "kernelspec": {
   "display_name": "Python 3",
   "language": "python",
   "name": "python3"
  },
  "language_info": {
   "codemirror_mode": {
    "name": "ipython",
    "version": 3
   },
   "file_extension": ".py",
   "mimetype": "text/x-python",
   "name": "python",
   "nbconvert_exporter": "python",
   "pygments_lexer": "ipython3",
   "version": "3.12.2"
  }
 },
 "nbformat": 4,
 "nbformat_minor": 2
}
